{
 "cells": [
  {
   "cell_type": "code",
   "execution_count": null,
   "metadata": {},
   "outputs": [],
   "source": [
    "from chatterbot import ChatBot\n",
    "from chatterbot.trainers import ListTrainer\n",
    "import os \n",
    "import random\n",
    "\n",
    "bot = ChatBot('Bot')\n",
    "bot.set_trainer(ListTrainer)\n",
    "    \n",
    "while True:\n",
    "    message = input('You     :')\n",
    "    if message.strip() != 'Bye':\n",
    "        reply = bot.random.choice(get_response(message))\n",
    "        print('ChatBot : ',reply)\n",
    "    if message.strip() == 'Bye':\n",
    "        print('ChatBot : Bye')\n",
    "        break"
   ]
  }
 ],
 "metadata": {
  "kernelspec": {
   "display_name": "Python 3",
   "language": "python",
   "name": "python3"
  },
  "language_info": {
   "codemirror_mode": {
    "name": "ipython",
    "version": 3
   },
   "file_extension": ".py",
   "mimetype": "text/x-python",
   "name": "python",
   "nbconvert_exporter": "python",
   "pygments_lexer": "ipython3",
   "version": "3.6.3"
  }
 },
 "nbformat": 4,
 "nbformat_minor": 2
}
